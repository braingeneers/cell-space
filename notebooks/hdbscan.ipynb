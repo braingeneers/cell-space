{
 "cells": [
  {
   "cell_type": "markdown",
   "metadata": {},
   "source": [
    "# HDBSCAN\n",
    "Evaluate HDBSCAN as a non-parametric clustering algorithm\n",
    "\n",
    "## References\n",
    "[How HDBSCAN Works](https://hdbscan.readthedocs.io/en/latest/how_hdbscan_works.html)\n",
    "[Grok Chat](https://grok.com/share/bGVnYWN5_cdb89d47-1ebf-4821-9f2f-d7d1563010e6)"
   ]
  },
  {
   "cell_type": "code",
   "execution_count": 21,
   "metadata": {},
   "outputs": [],
   "source": [
    "!pip install -q hdbscan scikit-learn numpy onnx skl2onnx onnxruntime"
   ]
  },
  {
   "cell_type": "code",
   "execution_count": 22,
   "metadata": {},
   "outputs": [
    {
     "name": "stdout",
     "output_type": "stream",
     "text": [
      "Encoding samples from checkpoints/allen-celltypes+human-cortex+various-cortical-areas.h5ad using model public/models/allen-celltypes+human-cortex+various-cortical-areas.onnx\n",
      "2162 genes in the sample and not in the model\n",
      "Processing 49494 cells with batch size 32\n",
      "100%|████████████████████████████████████| 49494/49494 [02:31<00:00, 327.15it/s]\n",
      "Saved encodings to checkpoints/allen-celltypes+human-cortex+various-cortical-areas-encodings.npy\n"
     ]
    }
   ],
   "source": [
    "!cd .. && python scripts/cluster.py encode  \\\n",
    "    public/models/allen-celltypes+human-cortex+various-cortical-areas.onnx \\\n",
    "    checkpoints/allen-celltypes+human-cortex+various-cortical-areas.h5ad"
   ]
  },
  {
   "cell_type": "code",
   "execution_count": 15,
   "metadata": {},
   "outputs": [],
   "source": [
    "import numpy as np\n",
    "from hdbscan import HDBSCAN\n",
    "from sklearn.datasets import make_blobs  # For dummy data; replace with your RNA-seq encodings"
   ]
  },
  {
   "cell_type": "code",
   "execution_count": 25,
   "metadata": {},
   "outputs": [
    {
     "name": "stdout",
     "output_type": "stream",
     "text": [
      "Loaded encodings of shape (49494, 8)\n"
     ]
    }
   ],
   "source": [
    "X_train = np.load(\"../checkpoints/allen-celltypes+human-cortex+various-cortical-areas-encodings.npy\")\n",
    "print(f\"Loaded encodings of shape {X_train.shape}\")"
   ]
  },
  {
   "cell_type": "code",
   "execution_count": 31,
   "metadata": {},
   "outputs": [
    {
     "name": "stdout",
     "output_type": "stream",
     "text": [
      "20 classes in this model\n"
     ]
    }
   ],
   "source": [
    "with open(\"../public/models/allen-celltypes+human-cortex+various-cortical-areas.classes\", \"r\") as f:\n",
    "    num_cell_classes = [line.strip() for line in f]\n",
    "print(f\"{len(num_cell_classes)} classes in this model\")"
   ]
  },
  {
   "cell_type": "code",
   "execution_count": 34,
   "metadata": {},
   "outputs": [
    {
     "name": "stdout",
     "output_type": "stream",
     "text": [
      "Number of clusters found: 32\n"
     ]
    }
   ],
   "source": [
    "# Initialize and train HDBSCAN on the training set for this model\n",
    "hdbscan_model = HDBSCAN(\n",
    "    min_cluster_size=100,  # Minimum size of clusters; tune based on your data\n",
    "    min_samples=100,       # Controls noise sensitivity; tune as needed\n",
    "    prediction_data=True # Required for approximate_predict\n",
    ")\n",
    "hdbscan_model.fit(X_train)\n",
    "\n",
    "# Get cluster labels for training data\n",
    "train_labels = hdbscan_model.labels_\n",
    "print(f\"Number of clusters found: {len(np.unique(train_labels)) - (1 if -1 in train_labels else 0)}\")"
   ]
  },
  {
   "cell_type": "code",
   "execution_count": 39,
   "metadata": {},
   "outputs": [
    {
     "name": "stdout",
     "output_type": "stream",
     "text": [
      "Encoding samples from data/allen-celltypes+human-cortex+m1.h5ad using model public/models/allen-celltypes+human-cortex+various-cortical-areas.onnx\n",
      "2162 genes in the sample and not in the model\n",
      "Processing 76533 cells with batch size 32\n",
      "100%|████████████████████████████████████| 76533/76533 [03:59<00:00, 320.07it/s]\n",
      "Saved encodings to data/allen-celltypes+human-cortex+m1-encodings.npy\n"
     ]
    }
   ],
   "source": [
    "!cd .. && python scripts/cluster.py encode  \\\n",
    "    public/models/allen-celltypes+human-cortex+various-cortical-areas.onnx \\\n",
    "    data/allen-celltypes+human-cortex+m1.h5ad"
   ]
  },
  {
   "cell_type": "code",
   "execution_count": 45,
   "metadata": {},
   "outputs": [
    {
     "name": "stdout",
     "output_type": "stream",
     "text": [
      "Loaded test encodings of shape (76533, 8)\n"
     ]
    }
   ],
   "source": [
    "X_test = np.load(\"../data/allen-celltypes+human-cortex+m1-encodings.npy\")\n",
    "print(f\"Loaded test encodings of shape {X_test.shape}\")"
   ]
  },
  {
   "cell_type": "code",
   "execution_count": 47,
   "metadata": {},
   "outputs": [
    {
     "name": "stdout",
     "output_type": "stream",
     "text": [
      "Test labels: [-1 -1 -1 ... -1 -1 -1]\n",
      "Number of clusters found: 20\n"
     ]
    }
   ],
   "source": [
    "# Predict clusters for new data without retraining\n",
    "from hdbscan import approximate_predict\n",
    "test_labels, strengths = approximate_predict(hdbscan_model, X_test)\n",
    "print(f\"Test labels: {test_labels}\")\n",
    "\n",
    "print(f\"Number of clusters found: {len(np.unique(test_labels)) - (1 if -1 in test_labels else 0)}\")"
   ]
  }
 ],
 "metadata": {
  "kernelspec": {
   "display_name": "venv",
   "language": "python",
   "name": "python3"
  },
  "language_info": {
   "codemirror_mode": {
    "name": "ipython",
    "version": 3
   },
   "file_extension": ".py",
   "mimetype": "text/x-python",
   "name": "python",
   "nbconvert_exporter": "python",
   "pygments_lexer": "ipython3",
   "version": "3.10.16"
  }
 },
 "nbformat": 4,
 "nbformat_minor": 2
}
