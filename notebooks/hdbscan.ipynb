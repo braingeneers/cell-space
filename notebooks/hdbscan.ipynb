{
 "cells": [
  {
   "cell_type": "markdown",
   "metadata": {},
   "source": [
    "# HDBSCAN\n",
    "Evaluate HDBSCAN as a non-parametric clustering algorithm\n",
    "\n",
    "## References\n",
    "[How HDBSCAN Works](https://hdbscan.readthedocs.io/en/latest/how_hdbscan_works.html)\n",
    "\n",
    "[Grok Chat](https://grok.com/share/bGVnYWN5_cdb89d47-1ebf-4821-9f2f-d7d1563010e6)"
   ]
  },
  {
   "cell_type": "code",
   "execution_count": 50,
   "metadata": {},
   "outputs": [],
   "source": [
    "import numpy as np\n",
    "from scipy.spatial.distance import euclidean\n",
    "import seaborn as sns\n",
    "import hdbscan\n",
    "%matplotlib inline"
   ]
  },
  {
   "cell_type": "markdown",
   "metadata": {},
   "source": [
    "## Ingest\n",
    "Predict labels and encodings for training and test sets for a SIMS model"
   ]
  },
  {
   "cell_type": "code",
   "execution_count": 10,
   "metadata": {},
   "outputs": [
    {
     "name": "stdout",
     "output_type": "stream",
     "text": [
      "Generating predictions and encodings for checkpoints/allen-celltypes+human-cortex+various-cortical-areas.h5ad using model public/models/allen-celltypes+human-cortex+various-cortical-areas.onnx\n",
      "2162 genes in the sample and not in the model\n",
      "Processing 49494 cells with batch size 32\n",
      "100%|████████████████████████████████████| 49494/49494 [02:24<00:00, 343.42it/s]\n",
      "Saved encodings to checkpoints/allen-celltypes+human-cortex+various-cortical-areas-encodings.npy\n",
      "Saved predictions to checkpoints/allen-celltypes+human-cortex+various-cortical-areas-predictions.npy\n"
     ]
    }
   ],
   "source": [
    "!cd .. && python scripts/cluster.py predict  \\\n",
    "    public/models/allen-celltypes+human-cortex+various-cortical-areas.onnx \\\n",
    "    checkpoints/allen-celltypes+human-cortex+various-cortical-areas.h5ad"
   ]
  },
  {
   "cell_type": "code",
   "execution_count": 11,
   "metadata": {},
   "outputs": [
    {
     "name": "stdout",
     "output_type": "stream",
     "text": [
      "Generating predictions and encodings for data/allen-celltypes+human-cortex+m1.h5ad using model public/models/allen-celltypes+human-cortex+various-cortical-areas.onnx\n",
      "2162 genes in the sample and not in the model\n",
      "Processing 76533 cells with batch size 32\n",
      "100%|████████████████████████████████████| 76533/76533 [03:46<00:00, 337.89it/s]\n",
      "Saved encodings to data/allen-celltypes+human-cortex+m1-encodings.npy\n",
      "Saved predictions to data/allen-celltypes+human-cortex+m1-predictions.npy\n"
     ]
    }
   ],
   "source": [
    "!cd .. && python scripts/cluster.py predict  \\\n",
    "    public/models/allen-celltypes+human-cortex+various-cortical-areas.onnx \\\n",
    "    data/allen-celltypes+human-cortex+m1.h5ad"
   ]
  },
  {
   "cell_type": "code",
   "execution_count": 12,
   "metadata": {},
   "outputs": [
    {
     "name": "stdout",
     "output_type": "stream",
     "text": [
      "Loaded 49494 training and 76533 test samples\n"
     ]
    }
   ],
   "source": [
    "X_train = np.load(\"../checkpoints/allen-celltypes+human-cortex+various-cortical-areas-encodings.npy\")\n",
    "Y_train = np.load(\"../checkpoints/allen-celltypes+human-cortex+various-cortical-areas-predictions.npy\")\n",
    "\n",
    "X_test = np.load(\"../data/allen-celltypes+human-cortex+m1-encodings.npy\")\n",
    "Y_test = np.load(\"../data/allen-celltypes+human-cortex+m1-predictions.npy\")\n",
    "\n",
    "with open(\"../public/models/allen-celltypes+human-cortex+various-cortical-areas.classes\", \"r\") as f:\n",
    "    labels = [line.strip() for line in f]\n",
    "\n",
    "print(f\"Loaded {X_train.shape[0]} training and {X_test.shape[0]} test samples\")"
   ]
  },
  {
   "cell_type": "markdown",
   "metadata": {},
   "source": [
    "## Train\n",
    "Calculate clusters and centroids"
   ]
  },
  {
   "cell_type": "code",
   "execution_count": 42,
   "metadata": {},
   "outputs": [
    {
     "name": "stderr",
     "output_type": "stream",
     "text": [
      "/Users/rcurrie/cell-space/venv/lib/python3.10/site-packages/sklearn/utils/deprecation.py:151: FutureWarning: 'force_all_finite' was renamed to 'ensure_all_finite' in 1.6 and will be removed in 1.8.\n",
      "  warnings.warn(\n",
      "/Users/rcurrie/cell-space/venv/lib/python3.10/site-packages/sklearn/utils/deprecation.py:151: FutureWarning: 'force_all_finite' was renamed to 'ensure_all_finite' in 1.6 and will be removed in 1.8.\n",
      "  warnings.warn(\n"
     ]
    },
    {
     "name": "stdout",
     "output_type": "stream",
     "text": [
      "13 unique clusters found\n"
     ]
    }
   ],
   "source": [
    "clusterer = hdbscan.HDBSCAN(\n",
    "    min_cluster_size=250\n",
    "    # min_cluster_size=X_train.shape[0] // 10,\n",
    "    # min_samples=X_train.shape[0] // 10\n",
    ")\n",
    "clusterer.fit(X_train)\n",
    "\n",
    "# Get cluster labels\n",
    "labels = clusterer.labels_\n",
    "\n",
    "# Find unique clusters (excluding noise, which is labeled -1)\n",
    "unique_clusters = np.unique(labels[labels >= 0])\n",
    "print(f\"{len(unique_clusters)} unique clusters found\")"
   ]
  },
  {
   "cell_type": "code",
   "execution_count": 45,
   "metadata": {},
   "outputs": [
    {
     "name": "stdout",
     "output_type": "stream",
     "text": [
      "Cluster Radii: [2.0639419555664062, 1.6960346698760986, 2.3505642414093018, 3.320141315460205, 0.33259186148643494, 0.7465940713882446, 0.22006694972515106, 0.2329031080007553, 1.4464304447174072, 0.019144821912050247, 0.038023754954338074, 0.039359766989946365, 0.014480484649538994]\n"
     ]
    }
   ],
   "source": [
    "# Compute centroids and cluster radii\n",
    "centroids = []\n",
    "cluster_radii = []\n",
    "for cluster in unique_clusters:\n",
    "    cluster_points = X_train[labels == cluster]\n",
    "    centroid = np.mean(cluster_points, axis=0)\n",
    "    centroids.append(centroid)\n",
    "    # Compute the maximum distance from centroid to any point in the cluster\n",
    "    distances = [euclidean(centroid, point) for point in cluster_points]\n",
    "    radius = np.max(distances)  # Define cluster \"size\" as max distance\n",
    "    cluster_radii.append(radius)\n",
    "\n",
    "centroids = np.array(centroids)\n",
    "print(\"Cluster Radii:\", cluster_radii)"
   ]
  },
  {
   "cell_type": "markdown",
   "metadata": {},
   "source": [
    "# Visualize"
   ]
  },
  {
   "cell_type": "code",
   "execution_count": 51,
   "metadata": {},
   "outputs": [
    {
     "name": "stderr",
     "output_type": "stream",
     "text": [
      "/Users/rcurrie/cell-space/venv/lib/python3.10/site-packages/hdbscan/plots.py:383: UserWarning: Infinite lambda values encountered in chosen clusters. This might be due to duplicates in the data.\n",
      "  warn('Infinite lambda values encountered in chosen clusters.'\n"
     ]
    },
    {
     "data": {
      "text/plain": [
       "<Axes: ylabel='$\\\\lambda$ value'>"
      ]
     },
     "execution_count": 51,
     "metadata": {},
     "output_type": "execute_result"
    },
    {
     "data": {
      "image/png": "[encoded data removed]",
      "text/plain": [
       "<Figure size 640x480 with 2 Axes>"
      ]
     },
     "metadata": {},
     "output_type": "display_data"
    }
   ],
   "source": [
    "clusterer.condensed_tree_.plot(select_clusters=True,\n",
    "                               selection_palette=sns.color_palette('deep', 8))"
   ]
  }
 ],
 "metadata": {
  "kernelspec": {
   "display_name": "venv",
   "language": "python",
   "name": "python3"
  },
  "language_info": {
   "codemirror_mode": {
    "name": "ipython",
    "version": 3
   },
   "file_extension": ".py",
   "mimetype": "text/x-python",
   "name": "python",
   "nbconvert_exporter": "python",
   "pygments_lexer": "ipython3",
   "version": "3.10.16"
  }
 },
 "nbformat": 4,
 "nbformat_minor": 2
}
